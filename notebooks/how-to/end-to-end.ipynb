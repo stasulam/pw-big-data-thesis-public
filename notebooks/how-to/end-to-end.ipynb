{
 "cells": [
  {
   "cell_type": "markdown",
   "id": "ce89cfeb-fb6a-4cb7-9b5c-7510ea7ca5ec",
   "metadata": {},
   "source": [
    "# End-to-End."
   ]
  },
  {
   "cell_type": "markdown",
   "id": "5fbbf528-482a-432d-bd1b-d7f42a7a78e8",
   "metadata": {},
   "source": [
    "# Data Lake."
   ]
  },
  {
   "cell_type": "markdown",
   "id": "8f260df5-a163-4c79-aa35-653264afe322",
   "metadata": {},
   "source": [
    "Inicjalne zasilenie danymi."
   ]
  },
  {
   "cell_type": "markdown",
   "id": "f4058e7a-0ddd-41fc-bfa8-eae5309b4791",
   "metadata": {},
   "source": [
    "```bash\n",
    "rag minio --path-to-raw-data ../../data/raw/arxiv-metadata-oai-snapshot.json \\\n",
    "    --bucket papers \\\n",
    "    --processes 1 \\\n",
    "    --path-to-env ../../.dev-env\n",
    "```"
   ]
  },
  {
   "cell_type": "markdown",
   "id": "7001e508-d389-4a91-a8de-7f28be8f6b49",
   "metadata": {},
   "source": [
    "# RAG."
   ]
  },
  {
   "cell_type": "markdown",
   "id": "147a97c2-1b51-4f9b-b5da-2f4e0c740e09",
   "metadata": {},
   "source": [
    "## Preprocessing."
   ]
  },
  {
   "cell_type": "markdown",
   "id": "961ae8e3-9efc-44b3-9d0e-441bcc12da4d",
   "metadata": {},
   "source": [
    "Preprocessing można stosować na całości lub części danych w `bucket`: `papers`."
   ]
  },
  {
   "cell_type": "code",
   "execution_count": 9,
   "id": "c0122a64-0dfa-4073-81c6-b75822084810",
   "metadata": {},
   "outputs": [
    {
     "name": "stdout",
     "output_type": "stream",
     "text": [
      "INFO:rag.processor.preprocessing:Setting up Spark...\n",
      ":: loading settings :: url = jar:file:/usr/local/lib/python3.11/site-packages/pyspark/jars/ivy-2.5.1.jar!/org/apache/ivy/core/settings/ivysettings.xml\n",
      "Ivy Default Cache set to: /root/.ivy2/cache\n",
      "The jars for the packages stored in: /root/.ivy2/jars\n",
      "org.apache.hadoop#hadoop-aws added as a dependency\n",
      "com.amazonaws#aws-java-sdk-bundle added as a dependency\n",
      "org.mongodb.spark#mongo-spark-connector_2.12 added as a dependency\n",
      ":: resolving dependencies :: org.apache.spark#spark-submit-parent-a0b506b5-578f-4d0c-a20f-e0a45d1b1209;1.0\n",
      "\tconfs: [default]\n",
      "\tfound org.apache.hadoop#hadoop-aws;3.3.4 in central\n",
      "\tfound com.amazonaws#aws-java-sdk-bundle;1.12.262 in central\n",
      "\tfound org.wildfly.openssl#wildfly-openssl;1.0.7.Final in central\n",
      "\tfound org.mongodb.spark#mongo-spark-connector_2.12;10.3.0 in central\n",
      "\tfound org.mongodb#mongodb-driver-sync;4.8.2 in central\n",
      "\t[4.8.2] org.mongodb#mongodb-driver-sync;[4.8.1,4.8.99)\n",
      "\tfound org.mongodb#bson;4.8.2 in central\n",
      "\tfound org.mongodb#mongodb-driver-core;4.8.2 in central\n",
      "\tfound org.mongodb#bson-record-codec;4.8.2 in central\n",
      ":: resolution report :: resolve 2349ms :: artifacts dl 5ms\n",
      "\t:: modules in use:\n",
      "\tcom.amazonaws#aws-java-sdk-bundle;1.12.262 from central in [default]\n",
      "\torg.apache.hadoop#hadoop-aws;3.3.4 from central in [default]\n",
      "\torg.mongodb#bson;4.8.2 from central in [default]\n",
      "\torg.mongodb#bson-record-codec;4.8.2 from central in [default]\n",
      "\torg.mongodb#mongodb-driver-core;4.8.2 from central in [default]\n",
      "\torg.mongodb#mongodb-driver-sync;4.8.2 from central in [default]\n",
      "\torg.mongodb.spark#mongo-spark-connector_2.12;10.3.0 from central in [default]\n",
      "\torg.wildfly.openssl#wildfly-openssl;1.0.7.Final from central in [default]\n",
      "\t---------------------------------------------------------------------\n",
      "\t|                  |            modules            ||   artifacts   |\n",
      "\t|       conf       | number| search|dwnlded|evicted|| number|dwnlded|\n",
      "\t---------------------------------------------------------------------\n",
      "\t|      default     |   8   |   1   |   0   |   0   ||   8   |   0   |\n",
      "\t---------------------------------------------------------------------\n",
      ":: retrieving :: org.apache.spark#spark-submit-parent-a0b506b5-578f-4d0c-a20f-e0a45d1b1209\n",
      "\tconfs: [default]\n",
      "\t0 artifacts copied, 8 already retrieved (0kB/5ms)\n",
      "24/06/15 19:08:08 WARN NativeCodeLoader: Unable to load native-hadoop library for your platform... using builtin-java classes where applicable\n",
      "Setting default log level to \"WARN\".\n",
      "To adjust logging level use sc.setLogLevel(newLevel). For SparkR, use setLogLevel(newLevel).\n",
      "INFO:rag.processor.preprocessing:Preprocessing...\n",
      "INFO:rag.processor.preprocessing:Reading data from Minio...\n",
      "24/06/15 19:08:13 WARN MetricsConfig: Cannot locate configuration: tried hadoop-metrics2-s3a-file-system.properties,hadoop-metrics2.properties\n",
      "INFO:rag.processor.preprocessing:Splitting text to sentences...                 \n",
      "INFO:rag.processor.preprocessing:Writing data to MongoDB...\n",
      "INFO:py4j.clientserver:Closing down clientserver connection                     \n"
     ]
    }
   ],
   "source": [
    "!rag preprocessing --path-to-data s3a://papers/100k/*.json"
   ]
  },
  {
   "cell_type": "markdown",
   "id": "d92997f4-a0c6-4f51-a32a-424cf6d5a8a6",
   "metadata": {},
   "source": [
    "## Embeddings."
   ]
  },
  {
   "cell_type": "markdown",
   "id": "8b4c355d-8a2e-4e90-870c-abe35d42bfb2",
   "metadata": {},
   "source": [
    "Embeddings można stosować na całości lub części danych odłożonych w bazie danych: `arxiv`, kolekcji: `sentences`."
   ]
  },
  {
   "cell_type": "code",
   "execution_count": 11,
   "id": "5d062ffa-9276-42c6-9ebf-2affed23c1b7",
   "metadata": {},
   "outputs": [
    {
     "name": "stdout",
     "output_type": "stream",
     "text": [
      "INFO:rag.processor.embeddings:Setting up Spark...\n",
      ":: loading settings :: url = jar:file:/usr/local/lib/python3.11/site-packages/pyspark/jars/ivy-2.5.1.jar!/org/apache/ivy/core/settings/ivysettings.xml\n",
      "Ivy Default Cache set to: /root/.ivy2/cache\n",
      "The jars for the packages stored in: /root/.ivy2/jars\n",
      "org.apache.hadoop#hadoop-aws added as a dependency\n",
      "com.amazonaws#aws-java-sdk-bundle added as a dependency\n",
      "org.mongodb.spark#mongo-spark-connector_2.12 added as a dependency\n",
      ":: resolving dependencies :: org.apache.spark#spark-submit-parent-912f5b5d-b98c-4b5c-a9f0-529a1b7d5494;1.0\n",
      "\tconfs: [default]\n",
      "\tfound org.apache.hadoop#hadoop-aws;3.3.4 in central\n",
      "\tfound com.amazonaws#aws-java-sdk-bundle;1.12.262 in central\n",
      "\tfound org.wildfly.openssl#wildfly-openssl;1.0.7.Final in central\n",
      "\tfound org.mongodb.spark#mongo-spark-connector_2.12;10.3.0 in central\n",
      "\tfound org.mongodb#mongodb-driver-sync;4.8.2 in central\n",
      "\t[4.8.2] org.mongodb#mongodb-driver-sync;[4.8.1,4.8.99)\n",
      "\tfound org.mongodb#bson;4.8.2 in central\n",
      "\tfound org.mongodb#mongodb-driver-core;4.8.2 in central\n",
      "\tfound org.mongodb#bson-record-codec;4.8.2 in central\n",
      ":: resolution report :: resolve 2120ms :: artifacts dl 18ms\n",
      "\t:: modules in use:\n",
      "\tcom.amazonaws#aws-java-sdk-bundle;1.12.262 from central in [default]\n",
      "\torg.apache.hadoop#hadoop-aws;3.3.4 from central in [default]\n",
      "\torg.mongodb#bson;4.8.2 from central in [default]\n",
      "\torg.mongodb#bson-record-codec;4.8.2 from central in [default]\n",
      "\torg.mongodb#mongodb-driver-core;4.8.2 from central in [default]\n",
      "\torg.mongodb#mongodb-driver-sync;4.8.2 from central in [default]\n",
      "\torg.mongodb.spark#mongo-spark-connector_2.12;10.3.0 from central in [default]\n",
      "\torg.wildfly.openssl#wildfly-openssl;1.0.7.Final from central in [default]\n",
      "\t---------------------------------------------------------------------\n",
      "\t|                  |            modules            ||   artifacts   |\n",
      "\t|       conf       | number| search|dwnlded|evicted|| number|dwnlded|\n",
      "\t---------------------------------------------------------------------\n",
      "\t|      default     |   8   |   1   |   0   |   0   ||   8   |   0   |\n",
      "\t---------------------------------------------------------------------\n",
      ":: retrieving :: org.apache.spark#spark-submit-parent-912f5b5d-b98c-4b5c-a9f0-529a1b7d5494\n",
      "\tconfs: [default]\n",
      "\t0 artifacts copied, 8 already retrieved (0kB/7ms)\n",
      "24/06/15 19:16:02 WARN NativeCodeLoader: Unable to load native-hadoop library for your platform... using builtin-java classes where applicable\n",
      "Setting default log level to \"WARN\".\n",
      "To adjust logging level use sc.setLogLevel(newLevel). For SparkR, use setLogLevel(newLevel).\n",
      "INFO:rag.processor.embeddings:Reading data from MongoDB...\n",
      "INFO:rag.processor.embeddings:Calculating embeddings...\n",
      "INFO:sentence_transformers.SentenceTransformer:Use pytorch device_name: cpu\n",
      "INFO:sentence_transformers.SentenceTransformer:Load pretrained SentenceTransformer: sentence-transformers/all-MiniLM-L6-v2\n",
      "/usr/local/lib/python3.11/site-packages/huggingface_hub/file_download.py:1132: FutureWarning: `resume_download` is deprecated and will be removed in version 1.0.0. Downloads always resume when possible. If you want to force a new download, use `force_download=True`.\n",
      "  warnings.warn(\n",
      "24/06/15 19:16:21 WARN CaseInsensitiveStringMap: Converting duplicated key replacedocument into CaseInsensitiveStringMap.\n",
      "24/06/15 19:16:22 WARN GarbageCollectionMetrics: To enable non-built-in garbage collector(s) List(Copy), users should configure it(them) to spark.eventLog.gcMetrics.youngGenerationGarbageCollectors or spark.eventLog.gcMetrics.oldGenerationGarbageCollectors\n",
      "24/06/15 19:16:22 WARN GarbageCollectionMetrics: To enable non-built-in garbage collector(s) List(MarkSweepCompact, Copy), users should configure it(them) to spark.eventLog.gcMetrics.youngGenerationGarbageCollectors or spark.eventLog.gcMetrics.oldGenerationGarbageCollectors\n",
      "INFO:py4j.clientserver:Closing down clientserver connection                     \n"
     ]
    }
   ],
   "source": [
    "!rag embeddings --model 'sentence-transformers/all-MiniLM-L6-v2' \\\n",
    "    --source s3a:/papers/100k"
   ]
  },
  {
   "cell_type": "markdown",
   "id": "786e6d41-5b0e-4518-a2e5-c758475ed9ce",
   "metadata": {},
   "source": [
    "## Most-Similar-Docs."
   ]
  },
  {
   "cell_type": "code",
   "execution_count": 12,
   "id": "af1e911f-ec9d-4d6c-abb7-c371a19bf17c",
   "metadata": {},
   "outputs": [
    {
     "name": "stdout",
     "output_type": "stream",
     "text": [
      "Usage: rag most-similar-docs [OPTIONS]\n",
      "\n",
      "  Get most similar documents.\n",
      "\n",
      "  Args:     text (str): The input text.     model (str): The name of the model\n",
      "  to use.     num_docs (int): The number of most similar documents to\n",
      "  retrieve.     query (str): The query to use for helping to retrieve the most\n",
      "  similar documents.     path_to_env (str): The path to the environment.\n",
      "\n",
      "  Returns:     List[str]: A list of most similar documents.\n",
      "\n",
      "Options:\n",
      "  --text TEXT         [required]\n",
      "  --model TEXT\n",
      "  --num-docs INTEGER\n",
      "  --query TEXT\n",
      "  --path-to-env TEXT\n",
      "  --help              Show this message and exit.\n"
     ]
    }
   ],
   "source": [
    "!rag most-similar-docs --help"
   ]
  },
  {
   "cell_type": "code",
   "execution_count": 15,
   "id": "50e8235a-2a21-4dc8-9db4-0c062614ae0a",
   "metadata": {},
   "outputs": [
    {
     "name": "stdout",
     "output_type": "stream",
     "text": [
      "INFO:rag.processor.most_similar_docs:Setting up Spark session...\n",
      ":: loading settings :: url = jar:file:/usr/local/lib/python3.11/site-packages/pyspark/jars/ivy-2.5.1.jar!/org/apache/ivy/core/settings/ivysettings.xml\n",
      "Ivy Default Cache set to: /root/.ivy2/cache\n",
      "The jars for the packages stored in: /root/.ivy2/jars\n",
      "org.apache.hadoop#hadoop-aws added as a dependency\n",
      "com.amazonaws#aws-java-sdk-bundle added as a dependency\n",
      "org.mongodb.spark#mongo-spark-connector_2.12 added as a dependency\n",
      ":: resolving dependencies :: org.apache.spark#spark-submit-parent-5e6ac52b-e9b1-434c-bf07-b8972a1dd438;1.0\n",
      "\tconfs: [default]\n",
      "\tfound org.apache.hadoop#hadoop-aws;3.3.4 in central\n",
      "\tfound com.amazonaws#aws-java-sdk-bundle;1.12.262 in central\n",
      "\tfound org.wildfly.openssl#wildfly-openssl;1.0.7.Final in central\n",
      "\tfound org.mongodb.spark#mongo-spark-connector_2.12;10.3.0 in central\n",
      "\tfound org.mongodb#mongodb-driver-sync;4.8.2 in central\n",
      "\t[4.8.2] org.mongodb#mongodb-driver-sync;[4.8.1,4.8.99)\n",
      "\tfound org.mongodb#bson;4.8.2 in central\n",
      "\tfound org.mongodb#mongodb-driver-core;4.8.2 in central\n",
      "\tfound org.mongodb#bson-record-codec;4.8.2 in central\n",
      ":: resolution report :: resolve 2780ms :: artifacts dl 11ms\n",
      "\t:: modules in use:\n",
      "\tcom.amazonaws#aws-java-sdk-bundle;1.12.262 from central in [default]\n",
      "\torg.apache.hadoop#hadoop-aws;3.3.4 from central in [default]\n",
      "\torg.mongodb#bson;4.8.2 from central in [default]\n",
      "\torg.mongodb#bson-record-codec;4.8.2 from central in [default]\n",
      "\torg.mongodb#mongodb-driver-core;4.8.2 from central in [default]\n",
      "\torg.mongodb#mongodb-driver-sync;4.8.2 from central in [default]\n",
      "\torg.mongodb.spark#mongo-spark-connector_2.12;10.3.0 from central in [default]\n",
      "\torg.wildfly.openssl#wildfly-openssl;1.0.7.Final from central in [default]\n",
      "\t---------------------------------------------------------------------\n",
      "\t|                  |            modules            ||   artifacts   |\n",
      "\t|       conf       | number| search|dwnlded|evicted|| number|dwnlded|\n",
      "\t---------------------------------------------------------------------\n",
      "\t|      default     |   8   |   1   |   0   |   0   ||   8   |   0   |\n",
      "\t---------------------------------------------------------------------\n",
      ":: retrieving :: org.apache.spark#spark-submit-parent-5e6ac52b-e9b1-434c-bf07-b8972a1dd438\n",
      "\tconfs: [default]\n",
      "\t0 artifacts copied, 8 already retrieved (0kB/10ms)\n",
      "24/06/15 19:46:32 WARN NativeCodeLoader: Unable to load native-hadoop library for your platform... using builtin-java classes where applicable\n",
      "Setting default log level to \"WARN\".\n",
      "To adjust logging level use sc.setLogLevel(newLevel). For SparkR, use setLogLevel(newLevel).\n",
      "INFO:rag.processor.most_similar_docs:Reading data from MongoDB\n",
      "INFO:rag.processor.most_similar_docs:query: [{$match: { _id: {$regex: \"0810\"} } }]\n",
      "INFO:rag.processor.most_similar_docs:Number of obs: 1366                        \n",
      "INFO:rag.processor.most_similar_docs:Processing query...\n",
      "INFO:sentence_transformers.SentenceTransformer:Use pytorch device_name: cpu\n",
      "INFO:sentence_transformers.SentenceTransformer:Load pretrained SentenceTransformer: sentence-transformers/all-MiniLM-L6-v2\n",
      "/usr/local/lib/python3.11/site-packages/huggingface_hub/file_download.py:1132: FutureWarning: `resume_download` is deprecated and will be removed in version 1.0.0. Downloads always resume when possible. If you want to force a new download, use `force_download=True`.\n",
      "  warnings.warn(\n",
      "Batches: 100%|████████████████████████████████████| 1/1 [00:00<00:00,  3.99it/s]\n",
      "INFO:rag.processor.most_similar_docs:Calculating cosine similarity...\n",
      "INFO:rag.processor.most_similar_docs:Getting most similar documents...\n",
      "24/06/15 19:46:45 WARN GarbageCollectionMetrics: To enable non-built-in garbage collector(s) List(Copy), users should configure it(them) to spark.eventLog.gcMetrics.youngGenerationGarbageCollectors or spark.eventLog.gcMetrics.oldGenerationGarbageCollectors\n",
      "24/06/15 19:46:45 WARN GarbageCollectionMetrics: To enable non-built-in garbage collector(s) List(MarkSweepCompact, Copy), users should configure it(them) to spark.eventLog.gcMetrics.youngGenerationGarbageCollectors or spark.eventLog.gcMetrics.oldGenerationGarbageCollectors\n",
      "INFO:rag.processor.most_similar_docs:Most similar documents:                    \n",
      "INFO:rag.processor.most_similar_docs:['0810.4482', '0810.4510', '0810.5070', '0810.5738', '0810.5672']\n",
      "INFO:py4j.clientserver:Closing down clientserver connection\n"
     ]
    }
   ],
   "source": [
    "!rag most-similar-docs --text \"solar axions or other pseudoscalar particles that couple to two photons\" \\\n",
    "    --num-docs 5 \\\n",
    "    --query '[{$match: { _id: {$regex: \"0810\"} } }]'"
   ]
  },
  {
   "cell_type": "code",
   "execution_count": 20,
   "id": "2c0965c0-1214-4225-b191-5a2899da670e",
   "metadata": {},
   "outputs": [
    {
     "name": "stdout",
     "output_type": "stream",
     "text": [
      "  We have searched for solar axions or other pseudoscalar particles that couple\n",
      "to two photons by using the CERN Axion Solar Telescope (CAST) setup. Whereas we\n",
      "previously have reported results from CAST with evacuated magnet bores (Phase\n",
      "I), setting limits on lower mass axions, here we report results from CAST where\n",
      "the magnet bores were filled with \\hefour gas (Phase II) of variable pressure.\n",
      "The introduction of gas generated a refractive photon mass $m_\\gamma$, thereby\n",
      "achieving the maximum possible conversion rate for those axion masses \\ma that\n",
      "match $m_\\gamma$. With 160 different pressure settings we have scanned \\ma up\n",
      "to about 0.4 eV, taking approximately 2 h of data for each setting. From the\n",
      "absence of excess X-rays when the magnet was pointing to the Sun, we set a\n",
      "typical upper limit on the axion-photon coupling of $\\gag\\lesssim 2.17\\times\n",
      "10^{-10} {\\rm GeV}^{-1}$ at 95% CL for $\\ma \\lesssim 0.4$ eV, the exact result\n",
      "depending on the pressure setting. The excluded parameter range covers\n",
      "realistic axion models with a Peccei-Quinn scale in the neighborhood of $f_{\\rm\n",
      "a}\\sim10^{7}$ GeV. Currently in the second part of CAST Phase II, we are\n",
      "searching for axions with masses up to about 1.2 eV using \\hethree as a buffer\n",
      "gas.\n",
      "\n"
     ]
    }
   ],
   "source": [
    "from rag.clients import setup_mongo_client\n",
    "\n",
    "mongo_client = setup_mongo_client(path_to_env=\"../../.dev-env\")\n",
    "db = mongo_client[\"arxiv\"]\n",
    "sentences = db[\"sentences\"]\n",
    "print(sentences.find_one({\"_id\": \"0810.4482\"}).get(\"full_text\"))"
   ]
  },
  {
   "cell_type": "markdown",
   "id": "d34125ce-5bf7-48c5-8dbb-ae20a6510d03",
   "metadata": {},
   "source": [
    "## QA."
   ]
  },
  {
   "cell_type": "code",
   "execution_count": 25,
   "id": "5feab78a-b3e1-48f8-90a5-7c9c0e143da5",
   "metadata": {},
   "outputs": [
    {
     "name": "stdout",
     "output_type": "stream",
     "text": [
      "INFO:rag.processor.most_similar_docs:Setting up Spark session...\n",
      ":: loading settings :: url = jar:file:/usr/local/lib/python3.11/site-packages/pyspark/jars/ivy-2.5.1.jar!/org/apache/ivy/core/settings/ivysettings.xml\n",
      "Ivy Default Cache set to: /root/.ivy2/cache\n",
      "The jars for the packages stored in: /root/.ivy2/jars\n",
      "org.apache.hadoop#hadoop-aws added as a dependency\n",
      "com.amazonaws#aws-java-sdk-bundle added as a dependency\n",
      "org.mongodb.spark#mongo-spark-connector_2.12 added as a dependency\n",
      ":: resolving dependencies :: org.apache.spark#spark-submit-parent-eb4edd1f-bcf5-4b55-bda5-d58095e76cb0;1.0\n",
      "\tconfs: [default]\n",
      "\tfound org.apache.hadoop#hadoop-aws;3.3.4 in central\n",
      "\tfound com.amazonaws#aws-java-sdk-bundle;1.12.262 in central\n",
      "\tfound org.wildfly.openssl#wildfly-openssl;1.0.7.Final in central\n",
      "\tfound org.mongodb.spark#mongo-spark-connector_2.12;10.3.0 in central\n",
      "\tfound org.mongodb#mongodb-driver-sync;4.8.2 in central\n",
      "\t[4.8.2] org.mongodb#mongodb-driver-sync;[4.8.1,4.8.99)\n",
      "\tfound org.mongodb#bson;4.8.2 in central\n",
      "\tfound org.mongodb#mongodb-driver-core;4.8.2 in central\n",
      "\tfound org.mongodb#bson-record-codec;4.8.2 in central\n",
      ":: resolution report :: resolve 2567ms :: artifacts dl 22ms\n",
      "\t:: modules in use:\n",
      "\tcom.amazonaws#aws-java-sdk-bundle;1.12.262 from central in [default]\n",
      "\torg.apache.hadoop#hadoop-aws;3.3.4 from central in [default]\n",
      "\torg.mongodb#bson;4.8.2 from central in [default]\n",
      "\torg.mongodb#bson-record-codec;4.8.2 from central in [default]\n",
      "\torg.mongodb#mongodb-driver-core;4.8.2 from central in [default]\n",
      "\torg.mongodb#mongodb-driver-sync;4.8.2 from central in [default]\n",
      "\torg.mongodb.spark#mongo-spark-connector_2.12;10.3.0 from central in [default]\n",
      "\torg.wildfly.openssl#wildfly-openssl;1.0.7.Final from central in [default]\n",
      "\t---------------------------------------------------------------------\n",
      "\t|                  |            modules            ||   artifacts   |\n",
      "\t|       conf       | number| search|dwnlded|evicted|| number|dwnlded|\n",
      "\t---------------------------------------------------------------------\n",
      "\t|      default     |   8   |   1   |   0   |   0   ||   8   |   0   |\n",
      "\t---------------------------------------------------------------------\n",
      ":: retrieving :: org.apache.spark#spark-submit-parent-eb4edd1f-bcf5-4b55-bda5-d58095e76cb0\n",
      "\tconfs: [default]\n",
      "\t0 artifacts copied, 8 already retrieved (0kB/10ms)\n",
      "24/06/15 19:53:39 WARN NativeCodeLoader: Unable to load native-hadoop library for your platform... using builtin-java classes where applicable\n",
      "Setting default log level to \"WARN\".\n",
      "To adjust logging level use sc.setLogLevel(newLevel). For SparkR, use setLogLevel(newLevel).\n",
      "INFO:rag.processor.most_similar_docs:Reading data from MongoDB\n",
      "INFO:rag.processor.most_similar_docs:query: [{$match: { _id: {$regex: \"0810\"} } }]\n",
      "INFO:rag.processor.most_similar_docs:Number of obs: 1366                        \n",
      "INFO:rag.processor.most_similar_docs:Processing query...\n",
      "INFO:sentence_transformers.SentenceTransformer:Use pytorch device_name: cpu\n",
      "INFO:sentence_transformers.SentenceTransformer:Load pretrained SentenceTransformer: sentence-transformers/all-MiniLM-L6-v2\n",
      "/usr/local/lib/python3.11/site-packages/huggingface_hub/file_download.py:1132: FutureWarning: `resume_download` is deprecated and will be removed in version 1.0.0. Downloads always resume when possible. If you want to force a new download, use `force_download=True`.\n",
      "  warnings.warn(\n",
      "Batches: 100%|████████████████████████████████████| 1/1 [00:00<00:00,  3.76it/s]\n",
      "INFO:rag.processor.most_similar_docs:Calculating cosine similarity...\n",
      "INFO:rag.processor.most_similar_docs:Getting most similar documents...\n",
      "24/06/15 19:53:56 WARN GarbageCollectionMetrics: To enable non-built-in garbage collector(s) List(Copy), users should configure it(them) to spark.eventLog.gcMetrics.youngGenerationGarbageCollectors or spark.eventLog.gcMetrics.oldGenerationGarbageCollectors\n",
      "24/06/15 19:53:56 WARN GarbageCollectionMetrics: To enable non-built-in garbage collector(s) List(MarkSweepCompact, Copy), users should configure it(them) to spark.eventLog.gcMetrics.youngGenerationGarbageCollectors or spark.eventLog.gcMetrics.oldGenerationGarbageCollectors\n",
      "INFO:rag.processor.most_similar_docs:Most similar documents:                    \n",
      "INFO:rag.processor.most_similar_docs:['0810.4482']\n",
      "INFO:pymongo.serverSelection:{\"message\": \"Waiting for suitable server to become available\", \"selector\": \"Primary()\", \"operation\": \"find\", \"topologyDescription\": \"<TopologyDescription id: 666df15660a55a2d70510027, topology_type: Unknown, servers: [<ServerDescription ('mongo', 27017) server_type: Unknown, rtt: None>]>\", \"clientId\": {\"$oid\": \"666df15660a55a2d70510027\"}, \"remainingTimeMS\": 29}\n",
      "Answer: CERN Axion Solar Telescope.\n",
      "Document ID(s): ['0810.4482'].\n",
      "Certainty: 0.37\n",
      "\n",
      "\n",
      "Full Text (for debugging): We have searched for solar axions or other pseudoscalar particles that couple\n",
      "to two photons by using the CERN Axion Solar Telescope (CAST) setup. Whereas we\n",
      "previously have reported results from CAST with evacuated magnet bores (Phase\n",
      "I), setting limits on lower mass axions, here we report results from CAST where\n",
      "the magnet bores were filled with \\hefour gas (Phase II) of variable pressure.\n",
      "The introduction of gas generated a refractive photon mass $m_\\gamma$, thereby\n",
      "achieving the maximum possible conversion rate for those axion masses \\ma that\n",
      "match $m_\\gamma$. With 160 different pressure settings we have scanned \\ma up\n",
      "to about 0.4 eV, taking approximately 2 h of data for each setting. From the\n",
      "absence of excess X-rays when the magnet was pointing to the Sun, we set a\n",
      "typical upper limit on the axion-photon coupling of $\\gag\\lesssim 2.17\\times\n",
      "10^{-10} {\\rm GeV}^{-1}$ at 95% CL for $\\ma \\lesssim 0.4$ eV, the exact result\n",
      "depending on the pressure setting. The excluded parameter range covers\n",
      "realistic axion models with a Peccei-Quinn scale in the neighborhood of $f_{\\rm\n",
      "a}\\sim10^{7}$ GeV. Currently in the second part of CAST Phase II, we are\n",
      "searching for axions with masses up to about 1.2 eV using \\hethree as a buffer\n",
      "gas.\n",
      "INFO:py4j.clientserver:Closing down clientserver connection\n"
     ]
    }
   ],
   "source": [
    "!rag qa --text \"What was used to search for solar axions or other pseudoscalar particles?\" \\\n",
    "    --num-docs 1 \\\n",
    "    --query '[{$match: { _id: {$regex: \"0810\"} } }]' \\\n",
    "    --path-to-env \"../../.dev-env\""
   ]
  },
  {
   "cell_type": "markdown",
   "id": "5dcbca34-0419-4fe6-8200-12fd6f3346a4",
   "metadata": {},
   "source": [
    "LLM."
   ]
  },
  {
   "cell_type": "markdown",
   "id": "d2733c93-c812-4b8d-8b39-5a71721e1faa",
   "metadata": {},
   "source": [
    "![image](llm.png)"
   ]
  },
  {
   "cell_type": "markdown",
   "id": "dfb5a93b-38da-4836-9a45-03e077b20c4c",
   "metadata": {},
   "source": [
    "# Drafts."
   ]
  },
  {
   "cell_type": "code",
   "execution_count": null,
   "id": "dec1ca9a-31d3-48b7-84ea-03b9a5c5b3f2",
   "metadata": {},
   "outputs": [],
   "source": []
  },
  {
   "cell_type": "markdown",
   "id": "6b6fe487-dd3a-4b99-a6f8-212c2c4e0d63",
   "metadata": {},
   "source": [
    "## Knowledge Graphs."
   ]
  },
  {
   "cell_type": "code",
   "execution_count": 26,
   "id": "1c817ee6-1bc9-4bdc-9852-899dd070faf7",
   "metadata": {},
   "outputs": [
    {
     "data": {
      "text/plain": [
       "Ellipsis"
      ]
     },
     "execution_count": 26,
     "metadata": {},
     "output_type": "execute_result"
    }
   ],
   "source": [
    "..."
   ]
  }
 ],
 "metadata": {
  "kernelspec": {
   "display_name": "Python 3 (ipykernel)",
   "language": "python",
   "name": "python3"
  },
  "language_info": {
   "codemirror_mode": {
    "name": "ipython",
    "version": 3
   },
   "file_extension": ".py",
   "mimetype": "text/x-python",
   "name": "python",
   "nbconvert_exporter": "python",
   "pygments_lexer": "ipython3",
   "version": "3.11.9"
  }
 },
 "nbformat": 4,
 "nbformat_minor": 5
}
